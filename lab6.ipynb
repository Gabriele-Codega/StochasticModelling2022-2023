{
 "cells": [
  {
   "attachments": {},
   "cell_type": "markdown",
   "metadata": {},
   "source": [
    "# Lab 6\n",
    "## Ehrenfest model"
   ]
  },
  {
   "cell_type": "code",
   "execution_count": 26,
   "metadata": {},
   "outputs": [],
   "source": [
    "import numpy as np\n",
    "import scipy.sparse as sp"
   ]
  },
  {
   "cell_type": "code",
   "execution_count": 46,
   "metadata": {},
   "outputs": [
    {
     "name": "stdout",
     "output_type": "stream",
     "text": [
      "[[0.         1.         0.         0.         0.         0.\n",
      "  0.        ]\n",
      " [0.16666667 0.         0.83333333 0.         0.         0.\n",
      "  0.        ]\n",
      " [0.         0.33333333 0.         0.66666667 0.         0.\n",
      "  0.        ]\n",
      " [0.         0.         0.5        0.         0.5        0.\n",
      "  0.        ]\n",
      " [0.         0.         0.         0.66666667 0.         0.33333333\n",
      "  0.        ]\n",
      " [0.         0.         0.         0.         0.83333333 0.\n",
      "  0.16666667]\n",
      " [0.         0.         0.         0.         0.         1.\n",
      "  0.        ]]\n"
     ]
    }
   ],
   "source": [
    "N = 6\n",
    "data = [np.array(range(1,N+1))/N,np.zeros(N+1), np.array(range(N,0,-1))/N]\n",
    "A = sp.diags(data,[-1,0,1],format = 'csr')\n",
    "print(A.todense())"
   ]
  },
  {
   "cell_type": "code",
   "execution_count": 50,
   "metadata": {},
   "outputs": [
    {
     "name": "stdout",
     "output_type": "stream",
     "text": [
      "[[0.03125 0.      0.46875 0.      0.46875 0.      0.03125]]\n"
     ]
    }
   ],
   "source": [
    "p0 = np.array([1,0,0,0,0,0,0])\n",
    "for i in range(104):\n",
    "    p0 = p0.dot(A.todense())\n",
    "print(p0)"
   ]
  },
  {
   "cell_type": "code",
   "execution_count": null,
   "metadata": {},
   "outputs": [],
   "source": []
  }
 ],
 "metadata": {
  "kernelspec": {
   "display_name": "ml",
   "language": "python",
   "name": "python3"
  },
  "language_info": {
   "codemirror_mode": {
    "name": "ipython",
    "version": 3
   },
   "file_extension": ".py",
   "mimetype": "text/x-python",
   "name": "python",
   "nbconvert_exporter": "python",
   "pygments_lexer": "ipython3",
   "version": "3.10.8"
  },
  "orig_nbformat": 4
 },
 "nbformat": 4,
 "nbformat_minor": 2
}
