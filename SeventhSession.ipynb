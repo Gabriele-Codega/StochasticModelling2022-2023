{
 "cells": [
  {
   "cell_type": "markdown",
   "metadata": {
    "id": "uteb4GCLArUI"
   },
   "source": [
    "# Seventh Session of Stochastic Modelling\n",
    "\n",
    "[![Open in Colab](https://colab.research.google.com/assets/colab-badge.svg)](https://colab.research.google.com/github/guglielmopadula/StochasticModelling2022-2023/blob/main/SeventhSession.ipynb)\n",
    "\n",
    "## A very fast recap on CTMC\n",
    "\n",
    "A rate matrix is a matrix $\\theta$ such that $\\theta_{ij}\\ge 0 \\forall i\\neq j$, $\\theta_{ii}=-\\sum_{j}\\theta_{ij}$.\n",
    "\n",
    "A finite state space CTMC is a stochastic process characterized by a rate matrix $$\\theta$$ which has as\n",
    "probability the probability transition matrix $ \\mathcal{P}(t)=\\{P(X(t)=j|X(0)=i)\\}_{ij} $ described by the following ODE \n",
    "$$\\begin{cases}\n",
    "\\dot{\\mathcal{P}}=\\mathcal{P} \\theta\\\\\\mathcal{P}(0)=1_{S\\times S}\n",
    "\\end{cases}$$. \n",
    "It can be proven that the only solution to this equation is the matrix exponential $$P(t)=e^{\\theta t}:=\\sum_{n=0}^{+\\infty} \\frac{(\\theta t)^{n}}{n!}$$\n",
    "If the matrix $\\theta$ is diagonalizable, i.e it admits a decomposition $V\\Lambda V^{T}$ then it can be proven that $Ve^{\\Lambda t}V^{T}$ where $e^{\\Lambda t}$ is a diagonal matrix with diagonal elements $e^{\\lambda_{i}t}$.\n",
    "If a matrix is not diagonalizable, there two ways to compute it:\n",
    "- Use the package scipy.linalg.expm to compute an approximation\n",
    "- Solve the differential equation using scipy.odeint\n",
    "\n",
    "### Exercise 1\n",
    "Let $A=\\left(\\begin{array}{ccc}\n",
    "-2 & 1 & 1 \\\\\n",
    "1 & -4 & 3 \\\\\n",
    "1 & 3 & -4\n",
    "\\end{array}\\right)$.\n",
    "\n",
    "This matrix symmetric, so it is diagonalizable.\n",
    "\n",
    "Compute the matrix exponential using the three methods above.\n",
    "\n",
    "Compare the approximate solutions with the true solution.\n",
    "\n",
    "\n"
   ]
  },
  {
   "cell_type": "code",
   "execution_count": null,
   "metadata": {
    "id": "obADg4E_AtAn"
   },
   "outputs": [],
   "source": []
  }
 ],
 "metadata": {
  "colab": {
   "provenance": []
  },
  "kernelspec": {
   "display_name": "Python 3 (ipykernel)",
   "language": "python",
   "name": "python3"
  },
  "language_info": {
   "codemirror_mode": {
    "name": "ipython",
    "version": 3
   },
   "file_extension": ".py",
   "mimetype": "text/x-python",
   "name": "python",
   "nbconvert_exporter": "python",
   "pygments_lexer": "ipython3",
   "version": "3.10.6"
  }
 },
 "nbformat": 4,
 "nbformat_minor": 1
}
