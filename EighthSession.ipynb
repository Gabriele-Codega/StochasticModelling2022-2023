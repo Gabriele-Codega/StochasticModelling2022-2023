{
 "cells": [
  {
   "cell_type": "markdown",
   "id": "a97ac065",
   "metadata": {},
   "source": [
    "# Eighth Session of Stochastic Modelling\n",
    "\n",
    "[![Open in Colab](https://colab.research.google.com/assets/colab-badge.svg)](https://colab.research.google.com/github/guglielmopadula/StochasticModelling2022-2023/blob/main/EightSession.ipynb)\n",
    "\n",
    "## A very fast recap on the Gillespie Algorithm\n",
    "\n",
    "Let's suppose we have a CTMC $X_{t}$ with rate matrix $Q$ and initial state $X_{0}$. To simulate it is necessary to build the jump matrix $A$ has components\n",
    "$$a_{ii}=0$$\n",
    "$$a_{ij}=\\frac{q_{ij}}{q_{ii}}$$\n",
    "\n",
    "With this we can write the Gillespie algoritm:\n"
   ]
  },
  {
   "cell_type": "code",
   "execution_count": 2,
   "id": "5fd49644",
   "metadata": {},
   "outputs": [
    {
     "data": {
      "text/plain": [
       "'\\nPSEUDOCODE\\ndef Gillespie():\\n    $t=0$\\n    $X=X_{0}$\\n    while:\\n        draw deltat from Exponential(Q[x])\\n        t=d+delta t\\n        draw x from Categorical(A[x])\\n        save (t,x)\\n'"
      ]
     },
     "execution_count": 2,
     "metadata": {},
     "output_type": "execute_result"
    }
   ],
   "source": [
    "\n",
    "'''\n",
    "PSEUDOCODE\n",
    "def Gillespie():\n",
    "    $t=0$\n",
    "    $X=X_{0}$\n",
    "    while:\n",
    "        draw deltat from Exponential(Q[x])\n",
    "        t=d+delta t\n",
    "        draw x from Categorical(A[x])\n",
    "        save (t,x)\n",
    "'''"
   ]
  },
  {
   "cell_type": "markdown",
   "id": "54f36ec7",
   "metadata": {},
   "source": [
    "### Exercise\n",
    "- Using scipy.linalg.expm write an algorithm to compute the marginal probability of the CTMC at time t (not the conditional)\n",
    "- Write the python code of the gillespie algorithm \n",
    "- Simulate the marginal probability and the gillespie algorithm for the CTMC associated to the matrix \n",
    "$$\\begin{bmatrix} -1 & 1  \\\\ \n",
    " 2  & -2  \\end{bmatrix}$$"
   ]
  },
  {
   "cell_type": "code",
   "execution_count": null,
   "id": "845674ab",
   "metadata": {},
   "outputs": [],
   "source": []
  }
 ],
 "metadata": {
  "kernelspec": {
   "display_name": "Python 3 (ipykernel)",
   "language": "python",
   "name": "python3"
  },
  "language_info": {
   "codemirror_mode": {
    "name": "ipython",
    "version": 3
   },
   "file_extension": ".py",
   "mimetype": "text/x-python",
   "name": "python",
   "nbconvert_exporter": "python",
   "pygments_lexer": "ipython3",
   "version": "3.10.6"
  }
 },
 "nbformat": 4,
 "nbformat_minor": 5
}
