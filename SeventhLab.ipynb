{
  "nbformat": 4,
  "nbformat_minor": 0,
  "metadata": {
    "colab": {
      "provenance": []
    },
    "kernelspec": {
      "name": "python3",
      "display_name": "Python 3"
    },
    "language_info": {
      "name": "python"
    }
  },
  "cells": [
    {
      "cell_type": "markdown",
      "source": [
        "# Seventh Session of Stochastic Modelling\n",
        "\n",
        "## A very fast recap on CTMC\n",
        "\n",
        "A rate matrix is a matrix $\\theta$ such that $\\theta_{ij}\\ge 0 \\forall i\\neq j$, $\\theta_{ii}=-\\sum_{j}\\theta_{ij}$.\n",
        "\n",
        "A CTMC is a finite state space stochastic process characterized by a rate matrix $$\\theta$$ which has probability the probability transition matrix $ \\mathcal{P}(t)=\\{P(X(t)=j|X(0)=i)\\}_{ij} $ described by the following ODE \n",
        "$$\\begin{cases}\n",
        "\\dot{\\mathcal{P}}=\\mathcal{P} \\theta\\\\\\mathcal{P}(0)=1_{S\\times S}\n",
        "\\end{cases}$$. \n",
        "It can be proven that the only solution to this equation is the matrix exponential $$P(t)=e^{\\theta t}:=\\sum_{n=0}^{+\\infty} \\frac{(\\theta t)^{n}}{n!}$$\n",
        "If the matrix $\\theta$ is diagonalizable, i.e it admits a decomposition $V\\Lambda V^{T}$ then it can be proven that $Ve^{\\Lambda t}V^{T}$ where $e^{\\Lambda t}$ is a diagonal matrix with diagonal elements $e^{\\lambda_{i}t}$.\n",
        "If a matrix is not diagonalizable, there two ways to compute it:\n",
        "- Use the package scipy.linalg.expm to compute an approximation\n",
        "- Solve the differential equation using scipy.odeint\n",
        "\n",
        "### Exercise 1\n",
        "Let $A=\\left(\\begin{array}{ccc}\n",
        "-2 & 1 & 1 \\\\\n",
        "1 & -4 & 3 \\\\\n",
        "1 & 3 & -4\n",
        "\\end{array}\\right)$.\n",
        "\n",
        "This matrix symmetric, so it is diagonalizable.\n",
        "\n",
        "Compute the matrix exponential using the three methods above.\n",
        "\n",
        "Compare the approximate solutions with the true solution.\n",
        "\n",
        "\n",
        "### Exercise 2\n",
        "The continous version of the Ehrenfest model is\n",
        "$$\\begin{aligned}\n",
        "q_{i, i-1} & =i \\lambda \\text { for } i=1,2, \\ldots, N \\\\\n",
        "q_{i, i+1} & =(N-i) \\lambda \\text { for } i=0,1, \\ldots, N-1\\\\\n",
        "q_{i,i} &= -N\\lambda \\text { for } i=0,1, \\ldots, N-1\\\\\n",
        "\\end{aligned}$$.\n",
        "It can be proven that is as an unique stedy state probability $$\\pi_i=2^{-N}\\left(\\begin{array}{c}\n",
        "N \\\\\n",
        "i\n",
        "\\end{array}\\right)$$.\n",
        "Check the convergence to the steady state probability using at least one of the methods of exercise 1 for $N=3,5,7$."
      ],
      "metadata": {
        "id": "uteb4GCLArUI"
      }
    },
    {
      "cell_type": "code",
      "source": [],
      "metadata": {
        "id": "obADg4E_AtAn"
      },
      "execution_count": null,
      "outputs": []
    }
  ]
}